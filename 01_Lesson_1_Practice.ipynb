{
 "cells": [
  {
   "cell_type": "markdown",
   "metadata": {},
   "source": [
    "# Практическое задание Урока 1\n",
    "\n",
    "### Тема \"Введение, примеры задач, бизнес- и ML-метрики.\""
   ]
  },
  {
   "cell_type": "markdown",
   "metadata": {},
   "source": [
    "### Содержание домашнего задания:\n",
    "- [Подключение библиотек и скриптов](#python)\n",
    "- [Задание 1](#task_1)\n",
    "- [Задание 2](#task_2)\n",
    "- [Задание 3](#task_3)\n",
    "- [Задание 4](#task_4)"
   ]
  },
  {
   "cell_type": "markdown",
   "metadata": {},
   "source": [
    "### Подключение библиотек и скриптов<a class=\"anchor\" id=\"python\"></a>"
   ]
  },
  {
   "cell_type": "code",
   "execution_count": 45,
   "metadata": {},
   "outputs": [],
   "source": [
    "import numpy as np\n",
    "import pandas as pd\n",
    "import math\n",
    "from sympy import symbols, limit, factorial, cancel, oo, sin, cos, log, ln, latex, diff, sqrt, solve, E, Matrix\n",
    "from IPython.display import display, Latex\n",
    "import matplotlib.pyplot as plt"
   ]
  },
  {
   "cell_type": "code",
   "execution_count": 46,
   "metadata": {},
   "outputs": [],
   "source": [
    "def ShowLatexFormula(x, verbose=False):\n",
    "    if verbose:\n",
    "        print(f\"ShowLatexFormula: '{x}'\")\n",
    "    display(Latex(r'\\begin{eqnarray}' + f\"{x}\" + r'\\end{eqnarray}'))"
   ]
  },
  {
   "cell_type": "code",
   "execution_count": 3,
   "metadata": {},
   "outputs": [],
   "source": [
    "def hit_rate(recommended_list, bought_list):\n",
    "    \"\"\"\n",
    "    Hit rate@k = (был ли хотя бы 1 релевантный товар среди топ-k рекомендованных)\n",
    "    \"\"\"\n",
    "    \n",
    "    bought_list = np.array(bought_list)\n",
    "    recommended_list = np.array(recommended_list)\n",
    "    \n",
    "    flags = np.isin(bought_list, recommended_list)\n",
    "    \n",
    "    hit_rate = (flags.sum() > 0).astype(int)\n",
    "    \n",
    "    return hit_rate\n",
    "\n",
    "# \n",
    "def precision_at_k(recommended_list, bought_list, k=5, verbose=False):\n",
    "    \"\"\"\n",
    "    Precision@k = (# of recommended items @k that are relevant) / (# of recommended items @k)\n",
    "    Precision - доля релевантных товаров среди рекомендованных = Какой % рекомендованных товаров юзер купил\n",
    "    \"\"\"\n",
    "    \n",
    "    bought_list = np.array(bought_list)\n",
    "    recommended_list = np.array(recommended_list)\n",
    "    \n",
    "    bought_list = bought_list  # Тут нет [:k] !!\n",
    "    recommended_list = recommended_list[:k]\n",
    "    \n",
    "    flags = np.isin(bought_list, recommended_list)\n",
    "    if verbose:\n",
    "        print(flags)\n",
    "    \n",
    "    precision = flags.sum() / len(recommended_list)\n",
    "    \n",
    "    return precision\n",
    "\n",
    "def recall_at_k(recommended_list, bought_list, k=5):\n",
    "    \"\"\"\n",
    "    Recall@k = (# of recommended items @k that are relevant) / (# of relevant items)\n",
    "    Recall - доля рекомендованных товаров среди релевантных = Какой % купленных товаров был среди рекомендованных\n",
    "    \"\"\"\n",
    "    \n",
    "    bought_list = np.array(bought_list)\n",
    "    recommended_list = np.array(recommended_list)[:k]\n",
    "    \n",
    "    flags = np.isin(bought_list, recommended_list)\n",
    "    \n",
    "    recall = flags.sum() / len(bought_list)\n",
    "    \n",
    "    return recall\n",
    "\n",
    "def ap_k(recommended_list, bought_list, k=5):\n",
    "    \"\"\"\n",
    "    AP@k - average precision at k\n",
    "    \"\"\"\n",
    "    bought_list = np.array(bought_list)\n",
    "    recommended_list = np.array(recommended_list)\n",
    "    \n",
    "    flags = np.isin(recommended_list, bought_list)\n",
    "    \n",
    "    if sum(flags) == 0:\n",
    "        return 0\n",
    "    \n",
    "    sum_ = 0\n",
    "    for i in range(1, k+1): \n",
    "        if flags[i] == True:\n",
    "            p_k = precision_at_k(recommended_list, bought_list, k=i)\n",
    "            sum_ += p_k\n",
    "            \n",
    "    result = sum_ / len(flags)\n",
    "    \n",
    "    return result"
   ]
  },
  {
   "cell_type": "markdown",
   "metadata": {},
   "source": [
    "> ##### NDCG@k - Normalized discounted cumulative gain\n",
    "\n",
    "> $$DCG = \\frac{1}{|r|} \\sum_u{\\frac{[bought fact]}{discount(i)}}$$  \n",
    "\n",
    "> $discount(i) = 1$ if $i <= 2$,   \n",
    "> $discount(i) = log_2(i)$ if $i > 2$\n",
    "> i - ранк рекомендованного товара  \n",
    "> |r| - кол-во рекомендованных товаров \n",
    "\n",
    "> $$NDCG = \\frac{DCG}{ideal DCG}$$"
   ]
  },
  {
   "cell_type": "code",
   "execution_count": 49,
   "metadata": {},
   "outputs": [],
   "source": [
    "def dcg_k(recommended, bought, k=None, ideal=False):\n",
    "    \"\"\"\n",
    "    DCG@k - Discounted Cumulative Gain at k\n",
    "    \"\"\"\n",
    "    range_ = np.arange(1, k+1)\n",
    "    if not ideal:\n",
    "        range_ = range_[np.isin(recommended, bought)[:k]]\n",
    "    if range_.shape[0] == 0:\n",
    "        return 0\n",
    "    return np.vectorize(lambda x: 1.0 if x == 1.0 else 1/np.log(x))(range_).sum()/k\n",
    "\n",
    "def ndcg_k(recommended, bought, k=None):\n",
    "    \"\"\"\n",
    "    NDCG@k - Normalized Discounted Cumulative Gain at k\n",
    "    \"\"\"\n",
    "    return dcg_k(recommended, bought, k=k, ideal=False)/dcg_k(recommended, bought, k=k, ideal=True)"
   ]
  },
  {
   "cell_type": "markdown",
   "metadata": {},
   "source": [
    "Проверка:\n",
    "\n",
    "> $DCG@5 = \\frac{1}{5}*(1 / 1 + 0 / log(2) + 0 / log(3) + 1 / log(4) + 0 / log(5))$  \n",
    "> $ideal DCG@5 = \\frac{1}{5}*(1 / 1 + 1 / log(2) + 1 / log(3) + 1 / log(4) + 1 / log(5))$  "
   ]
  },
  {
   "cell_type": "code",
   "execution_count": 50,
   "metadata": {},
   "outputs": [
    {
     "data": {
      "text/plain": [
       "(0.34426950408889634, 0.939123344503979, 0.36658603590642364)"
      ]
     },
     "execution_count": 50,
     "metadata": {},
     "output_type": "execute_result"
    }
   ],
   "source": [
    "dcg_5 = 1/5*(1+1/np.log(4))\n",
    "idcg_5 = 1/5*(1+1/np.log(2)+1/np.log(3)+1/np.log(4)+1/np.log(5))\n",
    "dcg_5, idcg_5, dcg_5/idcg_5"
   ]
  },
  {
   "cell_type": "code",
   "execution_count": 51,
   "metadata": {},
   "outputs": [],
   "source": [
    "recommended_ = np.array([143, 156, 1134, 991, 27, 1543, 3345, 533, 11, 43])\n",
    "bought_ = np.array([521, 32, 143, 991])"
   ]
  },
  {
   "cell_type": "code",
   "execution_count": 52,
   "metadata": {},
   "outputs": [
    {
     "data": {
      "text/plain": [
       "(0.34426950408889634, 0.9391233445039789, 0.3665860359064237)"
      ]
     },
     "execution_count": 52,
     "metadata": {},
     "output_type": "execute_result"
    }
   ],
   "source": [
    "dcg_k(recommended_, bought_, k=5), dcg_k(recommended_, bought_, k=5, ideal=True), \\\n",
    "ndcg_k(recommended_, bought_, k=5)"
   ]
  },
  {
   "cell_type": "markdown",
   "metadata": {},
   "source": [
    "$RR@k$ - reciproсal rank для $k$-го объекта\n",
    "> - Очень простая по своей сути величина, равная *обратному ранку первого правильно угаданного элемента*.\n",
    "\n",
    "> $ RR@k = \\frac{1}{\\min\\{k\\in [1...K] : r^{true}(\\pi^{-1}(k))=1\\}}, $"
   ]
  },
  {
   "cell_type": "code",
   "execution_count": 53,
   "metadata": {},
   "outputs": [],
   "source": [
    "def reciprocal_rank_k(recommended_list, bought_list, k=None):\n",
    "    \"\"\"\n",
    "    RR@k - Reciprocal Rank at k\n",
    "    \"\"\"\n",
    "    return 1 / np.arange(1, k+1)[np.isin(recommended, bought)[:k]][0]"
   ]
  },
  {
   "cell_type": "markdown",
   "metadata": {},
   "source": [
    "> $ R_i = R(g_i) \\;\\;\\;\\;\\;\\;\\;\\;\\;\\; (3) $\n",
    "\n",
    "> $ R(g) = \\frac{2^g-1}{2^{g_max}} $, $ g \\in \\{0, ..., g_{max}\\}. \\;\\;\\;\\;\\;\\;\\;\\;\\;\\; (4) $\n",
    "\n",
    "> $ ERR = \\sum_{r=1}^{n} \\frac{1}{r} P(user \\; stops \\; at \\; position \\; r) $\n",
    "\n",
    "> $ P(user \\; stops \\; at \\; position \\; r) = \\prod_{i=1}^{r-1} (1-R_i)R_r $\n",
    "\n",
    "> $ ERR = \\sum_{r=1}^{n} \\frac{1}{r} \\prod_{i=1}^{r-1} (1-R_i)R_r \\;\\;\\;\\;\\;\\;\\;\\;\\;\\; (5)$\n",
    "> - n - number of documents in ranking"
   ]
  },
  {
   "cell_type": "markdown",
   "metadata": {},
   "source": [
    "```\n",
    "Algorithm 2: Algorithm to compute the ERR metric (5) in linear time.\n",
    "---------------------------------------------------------------\n",
    "Require: Relevance grades g_i, 1 ≤ i ≤ n, and mapping \n",
    "    function R such as the one defined in (4).\n",
    "    p ← 1, ERR ← 0.\n",
    "    for r = 1 to n do\n",
    "        R ← R(g_r)\n",
    "        ERR ← ERR + p · R/r\n",
    "        p ← p · (1 − R)\n",
    "    end for\n",
    "    return ERR\n",
    "---------------------------------------------------------------\n",
    "```"
   ]
  },
  {
   "cell_type": "code",
   "execution_count": 87,
   "metadata": {},
   "outputs": [],
   "source": [
    "def R_g(recommended, i):\n",
    "    g = np.arange(recommended.shape[0])\n",
    "    g_i, g_max = g[i-1], g[-1]\n",
    "    return (2**g_i-1)/(2**g_max)\n",
    "\n",
    "def err_k(recommended, bought, k=None, verbose=False):\n",
    "    \"\"\"\n",
    "    ERR@k - Expected Reciprocal Rank - Ожидаемый взаимный Ранг\n",
    "    \"\"\"\n",
    "    p, ERR = 1, 0\n",
    "    for r in range(1, k+1):\n",
    "        R = R_g(recommended, r)\n",
    "        ERR_ = ERR\n",
    "        ERR = ERR + p * R/r\n",
    "        if verbose:\n",
    "            print(f\"ERR = ERR + p * R/r = {ERR_:.4f} + {p:.4f} * {R:.4f} / {r} = {ERR:.4f}\")\n",
    "        p = p * (1-R)\n",
    "        if verbose:\n",
    "            print(f\"p = p * (1-R) = {p:.4f} * (1 - {R:.4f}) = {p:.4f}\")\n",
    "    return ERR"
   ]
  },
  {
   "cell_type": "markdown",
   "metadata": {},
   "source": [
    "<hr>"
   ]
  },
  {
   "cell_type": "markdown",
   "metadata": {},
   "source": [
    "### Задание 1<a class=\"anchor\" id=\"task_1\"></a>"
   ]
  },
  {
   "cell_type": "markdown",
   "metadata": {},
   "source": [
    "> **Hit rate** = был ли хотя бы 1 релевантный товар среди рекомендованных\n",
    "> - Иногда применяется, когда продаются достаточно дрогие товары (например, бытовая техника) "
   ]
  },
  {
   "cell_type": "markdown",
   "metadata": {},
   "source": [
    "> **Precision** - доля релевантных товаров среди рекомендованных = Какой % рекомендованных товаров  юзер купил\n",
    "> - Пожалуй, самая приближенная к бизнес-метрикам и самая популярная метрика\n",
    "> - Precision= (# of recommended items that are relevant) / (# of recommended items)  \n",
    "> Precision@k = (# of recommended items @k that are relevant) / (# of recommended items @k)"
   ]
  },
  {
   "cell_type": "markdown",
   "metadata": {},
   "source": [
    "- Сравните метрики hit_rate@k, precision@k."
   ]
  },
  {
   "cell_type": "code",
   "execution_count": 54,
   "metadata": {},
   "outputs": [
    {
     "data": {
      "text/plain": [
       "1"
      ]
     },
     "execution_count": 54,
     "metadata": {},
     "output_type": "execute_result"
    }
   ],
   "source": [
    "recommended_list, bought_list = [5,6,7], [7,8]\n",
    "hit_rate(recommended_list, bought_list)"
   ]
  },
  {
   "cell_type": "code",
   "execution_count": 55,
   "metadata": {},
   "outputs": [
    {
     "data": {
      "text/plain": [
       "1"
      ]
     },
     "execution_count": 55,
     "metadata": {},
     "output_type": "execute_result"
    }
   ],
   "source": [
    "hit_rate(recommended_list, [6,7])"
   ]
  },
  {
   "cell_type": "code",
   "execution_count": 56,
   "metadata": {},
   "outputs": [
    {
     "data": {
      "text/plain": [
       "0.0"
      ]
     },
     "execution_count": 56,
     "metadata": {},
     "output_type": "execute_result"
    }
   ],
   "source": [
    "precision_at_k(recommended_list, bought_list, k=2)"
   ]
  },
  {
   "cell_type": "code",
   "execution_count": 57,
   "metadata": {},
   "outputs": [
    {
     "data": {
      "text/plain": [
       "0.3333333333333333"
      ]
     },
     "execution_count": 57,
     "metadata": {},
     "output_type": "execute_result"
    }
   ],
   "source": [
    "precision_at_k(recommended_list, bought_list, k=3)"
   ]
  },
  {
   "cell_type": "code",
   "execution_count": 58,
   "metadata": {},
   "outputs": [
    {
     "data": {
      "text/plain": [
       "0.6666666666666666"
      ]
     },
     "execution_count": 58,
     "metadata": {},
     "output_type": "execute_result"
    }
   ],
   "source": [
    "precision_at_k(recommended_list, [6,7], k=3)"
   ]
  },
  {
   "cell_type": "markdown",
   "metadata": {},
   "source": [
    "##### Ответ:\n",
    "- hit_rate показывает, например сработала или не сработала маркетинговая компания.\n",
    "- precision_at_k - показывает качество маркетинговой компании или продаж относително топ `K` товаров в списке продвигаемых."
   ]
  },
  {
   "cell_type": "markdown",
   "metadata": {},
   "source": [
    "- Какую метрику использовать предпочтительно и почему?\n",
    "\n",
    "##### Ответ:\n",
    "- Нет предпочтительной метрики, поскольку все зависит от бизнес условий - примеры:\n",
    "  - Продали новый самолет да/нет?\n",
    "  - Или сколько самолетов продали из самых ходовых?"
   ]
  },
  {
   "cell_type": "markdown",
   "metadata": {},
   "source": [
    "- Приведите пример 2-3 задач (опишите, что является клиентом, что товаром), в которой более уместно использовать метрику hit_rate?"
   ]
  },
  {
   "cell_type": "markdown",
   "metadata": {},
   "source": [
    "##### Ответ:\n",
    "- Ответ который был приведен выше - Продали новый самолет да/нет? Товар - самолет, клиент - покупатель.\n",
    "- \"Разводка\" (например, 1-апрельская шутка) - товар - fake news, клиент - общественность или мас. медиа.\n",
    "- Падение крупного метиорита - товар - жизнь на земле, клиент - человеческая расса."
   ]
  },
  {
   "cell_type": "markdown",
   "metadata": {},
   "source": [
    "<hr>"
   ]
  },
  {
   "cell_type": "markdown",
   "metadata": {},
   "source": [
    "### Задание 2<a class=\"anchor\" id=\"task_2\"></a>"
   ]
  },
  {
   "cell_type": "markdown",
   "metadata": {},
   "source": [
    "- В метрике NDCG@k мы используем логарифм в знаменателе. Как Вы думаете, почему именно логарифм?"
   ]
  },
  {
   "cell_type": "markdown",
   "metadata": {},
   "source": [
    "##### Ответ:\n",
    "\n",
    "> **Объяснение из литературы**:\n",
    "\n",
    "> Использование логарифма как функции дисконтирования можно объяснить следующими интуитивными соображениями: с точки зрения ранжирования позиции в начале списка отличаются гораздо сильнее, чем позиции в его конце. Так, в случае поискового движка между позициями 1 и 11 целая пропасть (лишь в нескольких случаях из ста пользователь заходит дальшей первой страницы поисковой выдачи), а между позициями 101 и 111 особой разницы нет — до них мало кто доходит. Эти субъективные соображения прекрасно выражаются с помощью логарифма:\n",
    "\n",
    "> $ \\frac{1}{log_2 (1+1)} + \\frac{1}{log_2 (1+11)} \\approx 0.721, а \\frac{1}{log_2 (1+101)} + \\frac{1}{log_2 (1+111)} \\approx 0.003$"
   ]
  },
  {
   "cell_type": "markdown",
   "metadata": {},
   "source": [
    "- Какую функцию можно использовать вместо логарифма?"
   ]
  },
  {
   "cell_type": "markdown",
   "metadata": {},
   "source": [
    "##### Ответ:\n",
    "- Не знаю, в Интернете найти не удалось, возможно $f(x) = 1 - \\frac{1}{\\sqrt{x}}$."
   ]
  },
  {
   "cell_type": "code",
   "execution_count": 34,
   "metadata": {},
   "outputs": [
    {
     "data": {
      "image/png": "[encoded data removed]",
      "text/plain": [
       "<Figure size 432x288 with 1 Axes>"
      ]
     },
     "metadata": {
      "needs_background": "light"
     },
     "output_type": "display_data"
    }
   ],
   "source": [
    "x = np.linspace(0+0.1, 10, 101)\n",
    "log_ = np.log(x); plt.plot(x, log_, label='log')\n",
    "f = 1-1/np.sqrt(x); plt.plot(x, f, label='f(x)')\n",
    "plt.xlabel('x'); plt.grid(True); plt.legend();"
   ]
  },
  {
   "cell_type": "markdown",
   "metadata": {},
   "source": [
    "- Привидите пример метрик/подходов к предобработке данных/функций ошибок в ML, где также в знаменателе присутствует логарифм."
   ]
  },
  {
   "cell_type": "markdown",
   "metadata": {},
   "source": [
    "##### Ответ:\n",
    "- Где в метриках присутствует `логарифм в знаменателе` пока не знаю, поскольку проходили только где `логарифм в числителе` - например Logloss и энтропийный критерий Шеннона. В Интренете примеры не удалось найти."
   ]
  },
  {
   "cell_type": "markdown",
   "metadata": {},
   "source": [
    "<hr>"
   ]
  },
  {
   "cell_type": "markdown",
   "metadata": {},
   "source": [
    "### Задание 3<a class=\"anchor\" id=\"task_3\"></a>"
   ]
  },
  {
   "cell_type": "markdown",
   "metadata": {},
   "source": [
    "> Интеракция (англ. interaction, лат. inter - между и actio деятельность) определяется как взаимодействие, взаимное влияние людей или групп друг на друга."
   ]
  },
  {
   "cell_type": "markdown",
   "metadata": {},
   "source": [
    "- Какие еще метрики (Вы можете вспомнить уже пройденные Вами или посмотреть в интернете) могут использоваться для рекомендательных систем (приведите примеры метрики и чем являются интеракции, чтобы она могла быть использована)."
   ]
  },
  {
   "cell_type": "markdown",
   "metadata": {},
   "source": [
    "##### Ответ:\n",
    "- Пример метрики - кросс-энтропия, пример интеракции - распространение информации (фактов или сплетен/слухов) между группами людей. Применение метрики может, например, помочь выявить групп по интересам."
   ]
  },
  {
   "cell_type": "markdown",
   "metadata": {},
   "source": [
    "<hr>"
   ]
  },
  {
   "cell_type": "markdown",
   "metadata": {},
   "source": [
    "### Задание 4<a class=\"anchor\" id=\"task_4\"></a>\n",
    "- Посчитайте на этих данных pr@8, rec@8, AP@8, NDCG@8, RR@8, ERR@8 (expected reciprocal rank)  \n",
    "Сначала поссчитайет \"руками\", а затем подтвердите рассчеты с помощью функций (некоторые были на семинаре, некоторые нужно будут написать самостоятельно)."
   ]
  },
  {
   "cell_type": "code",
   "execution_count": 86,
   "metadata": {},
   "outputs": [
    {
     "data": {
      "text/plain": [
       "(8,\n",
       " array([ 2,  5,  7,  4, 11,  9,  8, 10, 12,  3]),\n",
       " array([ 1,  3,  5,  7,  9, 11]))"
      ]
     },
     "execution_count": 86,
     "metadata": {},
     "output_type": "execute_result"
    }
   ],
   "source": [
    "k = 8\n",
    "bought = np.array([1, 3, 5, 7, 9, 11])\n",
    "recommended = np.array([2, 5, 7, 4, 11, 9, 8, 10, 12, 3])\n",
    "k, recommended, bought"
   ]
  },
  {
   "cell_type": "markdown",
   "metadata": {},
   "source": [
    "#### pr@8\n",
    "- Precision@k = (# of recommended items @k that are relevant) / (# of recommended items @k)"
   ]
  },
  {
   "cell_type": "code",
   "execution_count": 36,
   "metadata": {},
   "outputs": [
    {
     "data": {
      "text/latex": [
       "\\begin{eqnarray}\\frac{0+0+1+1+1+1}{8}=0.5\\end{eqnarray}"
      ],
      "text/plain": [
       "<IPython.core.display.Latex object>"
      ]
     },
     "metadata": {},
     "output_type": "display_data"
    }
   ],
   "source": [
    "x = '+'.join([str(x) for x in np.isin(bought, recommended[:k])*1])\n",
    "ShowLatexFormula('\\\\frac{'+x+'}{'+str(len(recommended[:k]))+'}'+'='+\\\n",
    "                 str(precision_at_k(recommended, bought, k=k))) #, verbose=True)"
   ]
  },
  {
   "cell_type": "markdown",
   "metadata": {},
   "source": [
    "#### rec@8\n",
    "- Recall@k = (# of recommended items @k that are relevant) / (# of relevant items)"
   ]
  },
  {
   "cell_type": "code",
   "execution_count": 37,
   "metadata": {},
   "outputs": [
    {
     "data": {
      "text/latex": [
       "\\begin{eqnarray}\\frac{0+0+1+1+1+1}{6}\\approx0.6667\\end{eqnarray}"
      ],
      "text/plain": [
       "<IPython.core.display.Latex object>"
      ]
     },
     "metadata": {},
     "output_type": "display_data"
    }
   ],
   "source": [
    "x = '+'.join([str(x) for x in np.isin(bought, recommended[:k])*1])\n",
    "ShowLatexFormula('\\\\frac{'+x+'}{'+str(len(bought))+'}'+'\\\\approx'+\\\n",
    "                 str(recall_at_k(recommended, bought, k=k).round(4))) #, verbose=True)"
   ]
  },
  {
   "cell_type": "markdown",
   "metadata": {},
   "source": [
    "#### AP@8\n",
    "- AP@k - average precision at k"
   ]
  },
  {
   "cell_type": "code",
   "execution_count": 38,
   "metadata": {},
   "outputs": [
    {
     "data": {
      "text/latex": [
       "\\begin{eqnarray}\\frac{0.0+0.5+0.5+0.6}{10}=0.16\\end{eqnarray}"
      ],
      "text/plain": [
       "<IPython.core.display.Latex object>"
      ]
     },
     "metadata": {},
     "output_type": "display_data"
    }
   ],
   "source": [
    "flags = np.isin(recommended, bought)\n",
    "precisions = [precision_at_k(recommended, bought, k=i) for i in range(1, k+1) if flags[i]]\n",
    "x = '+'.join([str(x) for x in precisions])\n",
    "ShowLatexFormula('\\\\frac{'+x+'}{'+str(len(recommended))+'}'+ \\\n",
    "                 '='+ str(ap_k(recommended, bought, k=k)))"
   ]
  },
  {
   "cell_type": "markdown",
   "metadata": {},
   "source": [
    "#### NDCG@8\n",
    "- NDCG@k - Normalized discounted cumulative gain"
   ]
  },
  {
   "cell_type": "code",
   "execution_count": 39,
   "metadata": {},
   "outputs": [
    {
     "data": {
      "text/latex": [
       "\\begin{eqnarray}DCG@8 = \\frac{1}{8} (\\frac{1}{log(2)}+\\frac{1}{log(3)}+\\frac{1}{log(5)}+\\frac{1}{log(6)})=\\frac{1}{8} (1.4427+0.9102+0.6213+0.5581) \\approx 0.4415\\end{eqnarray}"
      ],
      "text/plain": [
       "<IPython.core.display.Latex object>"
      ]
     },
     "metadata": {},
     "output_type": "display_data"
    }
   ],
   "source": [
    "range_ = np.arange(1, k+1)[np.isin(recommended, bought)[:k]]\n",
    "x = '+'.join(['1' if x == 1 else '\\\\frac{1}{log('+str(x)+')}' for x in range_])\n",
    "y = '+'.join(['1' if x == 1 else str((1/np.log(x)).round(4)) for x in range_])\n",
    "ShowLatexFormula('DCG@8 = \\\\frac{1}{'+str(k)+'} ('+x+')='+'\\\\frac{1}{'+str(k)+'} ('+y+') \\\\approx 0.4415')"
   ]
  },
  {
   "cell_type": "code",
   "execution_count": 40,
   "metadata": {},
   "outputs": [
    {
     "data": {
      "text/latex": [
       "\\begin{eqnarray}iDCG@8 = \\frac{1}{8} (1+\\frac{1}{log(2)}+\\frac{1}{log(3)}+\\frac{1}{log(4)}+\\frac{1}{log(5)}+\\frac{1}{log(6)}+\\frac{1}{log(7)}+\\frac{1}{log(8)})=\\frac{1}{8} (1+1.4427+0.9102+0.7213+0.6213+0.5581+0.5139+0.4809) \\approx 0.781\\end{eqnarray}"
      ],
      "text/plain": [
       "<IPython.core.display.Latex object>"
      ]
     },
     "metadata": {},
     "output_type": "display_data"
    }
   ],
   "source": [
    "range_ = np.arange(1, k+1) # [np.isin(recommended, bought)[:k]]\n",
    "x = '+'.join(['1' if x == 1 else '\\\\frac{1}{log('+str(x)+')}' for x in range_])\n",
    "y = '+'.join(['1' if x == 1 else str((1/np.log(x)).round(4)) for x in range_])\n",
    "ShowLatexFormula('iDCG@8 = \\\\frac{1}{'+str(k)+'} ('+x+')='+'\\\\frac{1}{'+str(k)+'} ('+y+') \\\\approx 0.781')"
   ]
  },
  {
   "cell_type": "markdown",
   "metadata": {},
   "source": [
    "$ NDCG@8 = 0.4415 \\; / \\; 0.781 \\approx 0.5653 $"
   ]
  },
  {
   "cell_type": "code",
   "execution_count": 42,
   "metadata": {},
   "outputs": [
    {
     "data": {
      "text/plain": [
       "(0.44154747857833254,\n",
       " 0.7810655048004851,\n",
       " 0.5653142737255068,\n",
       " 0.5653008962868118)"
      ]
     },
     "execution_count": 42,
     "metadata": {},
     "output_type": "execute_result"
    }
   ],
   "source": [
    "dcg_k(recommended, bought, k=k), \\\n",
    "dcg_k(recommended, bought, k=k, ideal=True), \\\n",
    "ndcg_k(recommended, bought, k=k), 0.4415 / 0.781"
   ]
  },
  {
   "cell_type": "markdown",
   "metadata": {},
   "source": [
    "#### RR@8\n",
    "- RR@k - Reciprocal Rank at k"
   ]
  },
  {
   "cell_type": "code",
   "execution_count": 43,
   "metadata": {},
   "outputs": [
    {
     "data": {
      "text/plain": [
       "array([False,  True,  True, False,  True,  True, False, False, False,\n",
       "        True])"
      ]
     },
     "execution_count": 43,
     "metadata": {},
     "output_type": "execute_result"
    }
   ],
   "source": [
    "np.isin(recommended, bought)"
   ]
  },
  {
   "cell_type": "code",
   "execution_count": 44,
   "metadata": {},
   "outputs": [
    {
     "data": {
      "text/plain": [
       "5"
      ]
     },
     "execution_count": 44,
     "metadata": {},
     "output_type": "execute_result"
    }
   ],
   "source": [
    "recommended[np.isin(recommended, bought)][0]"
   ]
  },
  {
   "cell_type": "markdown",
   "metadata": {},
   "source": [
    "$ RR@k = \\frac{1}{2} = 0.5 $"
   ]
  },
  {
   "cell_type": "code",
   "execution_count": 24,
   "metadata": {},
   "outputs": [
    {
     "data": {
      "text/plain": [
       "0.5"
      ]
     },
     "execution_count": 24,
     "metadata": {},
     "output_type": "execute_result"
    }
   ],
   "source": [
    "reciprocal_rank_k(recommended, bought, k=8)"
   ]
  },
  {
   "cell_type": "markdown",
   "metadata": {},
   "source": [
    "#### ERR@8\n",
    "- ERR@k - Expected Reciprocal Rank - Ожидаемый взаимный Ранг"
   ]
  },
  {
   "cell_type": "code",
   "execution_count": 85,
   "metadata": {},
   "outputs": [
    {
     "name": "stdout",
     "output_type": "stream",
     "text": [
      "ERR = ERR + p * R/r = 0.0000 + 1.0000 * 0.0000 / 1 = 0.0000\n",
      "p = p * (1-R) = 1.0000 * (1 - 0.0000) = 1.0000\n",
      "ERR = ERR + p * R/r = 0.0000 + 1.0000 * 0.0020 / 2 = 0.0010\n",
      "p = p * (1-R) = 0.9980 * (1 - 0.0020) = 0.9980\n",
      "ERR = ERR + p * R/r = 0.0010 + 0.9980 * 0.0059 / 3 = 0.0029\n",
      "p = p * (1-R) = 0.9922 * (1 - 0.0059) = 0.9922\n",
      "ERR = ERR + p * R/r = 0.0029 + 0.9922 * 0.0137 / 4 = 0.0063\n",
      "p = p * (1-R) = 0.9786 * (1 - 0.0137) = 0.9786\n",
      "ERR = ERR + p * R/r = 0.0063 + 0.9786 * 0.0293 / 5 = 0.0121\n",
      "p = p * (1-R) = 0.9500 * (1 - 0.0293) = 0.9500\n",
      "ERR = ERR + p * R/r = 0.0121 + 0.9500 * 0.0605 / 6 = 0.0216\n",
      "p = p * (1-R) = 0.8924 * (1 - 0.0605) = 0.8924\n",
      "ERR = ERR + p * R/r = 0.0216 + 0.8924 * 0.1230 / 7 = 0.0373\n",
      "p = p * (1-R) = 0.7826 * (1 - 0.1230) = 0.7826\n",
      "ERR = ERR + p * R/r = 0.0373 + 0.7826 * 0.2480 / 8 = 0.0616\n",
      "p = p * (1-R) = 0.5885 * (1 - 0.2480) = 0.5885\n"
     ]
    },
    {
     "data": {
      "text/plain": [
       "0.061591297872009065"
      ]
     },
     "execution_count": 85,
     "metadata": {},
     "output_type": "execute_result"
    }
   ],
   "source": [
    "err_k(recommended, bought, k=8, verbose=True)"
   ]
  },
  {
   "cell_type": "markdown",
   "metadata": {},
   "source": [
    "<hr>"
   ]
  },
  {
   "cell_type": "markdown",
   "metadata": {},
   "source": [
    "### Ссылки:\n",
    "- Рекомендательные системы: идеи, подходы, задачи https://habr.com/ru/company/jetinfosystems/blog/453792/\n",
    "- Анатомия рекомендательных систем. Часть первая (постановка, подготовка данных) https://habr.com/ru/company/lanit/blog/420499/\n",
    "- Анатомия рекомендательных систем. Часть вторая (метрики, бейзлайн подходы) https://habr.com/ru/company/lanit/blog/421401/\n",
    "- Метрики качества ранжирования https://habr.com/ru/company/econtenta/blog/303458/\n",
    "- Метрики качества ранжирования https://gist.github.com/Obus/697ef8f6af97f7aac9351f1ea5f94d6a\n",
    "- Функционалы качества бинарной классификации (обзор Дьяконова) https://dyakonov.org/2019/05/31/функционалы-качества-в-задаче-бинарн\n",
    "- Метрики ранжирования (курс Дьяконова) https://github.com/Dyakonov/PZAD/blob/master/2020/PZAD2020_034err_multirankcluster_03.pdf\n",
    "\n",
    "<hr>\n",
    "\n",
    "- Discounted cumulative gain https://en.wikipedia.org/wiki/Discounted_cumulative_gain\n",
    "- Discounted Cumulative Gain https://machinelearningmedium.com/2017/07/24/discounted-cumulative-gain/\n",
    "- Normalized Discounted Cumulative Gain https://towardsdatascience.com/normalized-discounted-cumulative-gain-37e6f75090e9\n",
    "- Discounted cumulative gain https://www.wikiwand.com/en/Discounted_cumulative_gain\n",
    "- Evaluate your Recommendation Engine using NDCG https://towardsdatascience.com/evaluate-your-recommendation-engine-using-ndcg-759a851452d1\n",
    "- Интеракция https://communication_psychology.academic.ru/251/Интеракция\n",
    "- mblondel/letor_metrics.py https://gist.github.com/mblondel/7337391\n",
    "- sklearn.metrics.dcg_score https://scikit-learn.org/stable/modules/generated/sklearn.metrics.dcg_score.html\n",
    "- sklearn.metrics.ndcg_score https://scikit-learn.org/stable/modules/generated/sklearn.metrics.ndcg_score.html\n",
    "- Normalized Discounted Cumulative Gain https://scikit-learn.org/stable/modules/model_evaluation.html#normalized-discounted-cumulative-gain\n",
    "- Обучение ранжированию https://ru.wikipedia.org/wiki/Обучение_ранжированию Learning to rank https://en.wikipedia.org/wiki/Learning_to_rank\n",
    "- Expected Reciprocal Rank for Graded Relevance https://web.archive.org/web/20200426192936/http://www.olivier.chapelle.cc/pub/err.pdf\n",
    "- IREEL: Information Retrieval (IR) Effectiveness Evaluation Library for Python https://github.com/ozcan39/ir_evaluation_py\n",
    "- Support ERR (expected reciprocal rank) metric #16813 https://github.com/scikit-learn/scikit-learn/issues/16813\n",
    "- Demystifying nDCG and ERR https://opensourceconnections.com/blog/2019/12/09/demystifying-ndcg-and-err/\n",
    "- https://github.com/skondo/evaluation_measures/blob/master/evaluations_measures.py"
   ]
  },
  {
   "cell_type": "markdown",
   "metadata": {},
   "source": [
    "##### Примечание:\n",
    "- Не удалост разобраться как метрики dcg_score и ndcg_score из sklearn.metrics соотносятся с DCG@K и NDCG@K.\n",
    "- Просьба объяснить при разборе домашнего задания."
   ]
  },
  {
   "cell_type": "code",
   "execution_count": 25,
   "metadata": {},
   "outputs": [],
   "source": [
    "from sklearn.metrics import dcg_score, ndcg_score"
   ]
  },
  {
   "cell_type": "code",
   "execution_count": 26,
   "metadata": {},
   "outputs": [
    {
     "data": {
      "text/plain": [
       "9.499457825916874"
      ]
     },
     "execution_count": 26,
     "metadata": {},
     "output_type": "execute_result"
    }
   ],
   "source": [
    "# we have groud-truth relevance of some answers to a query:\n",
    "true_relevance = np.asarray([[10, 0, 0, 1, 5]])\n",
    "# we predict scores for the answers\n",
    "scores = np.asarray([[.1, .2, .3, 4, 70]])\n",
    "dcg_score(true_relevance, scores)"
   ]
  },
  {
   "cell_type": "code",
   "execution_count": 27,
   "metadata": {},
   "outputs": [
    {
     "data": {
      "text/plain": [
       "9.499457825916874"
      ]
     },
     "execution_count": 27,
     "metadata": {},
     "output_type": "execute_result"
    }
   ],
   "source": [
    "true_relevance = np.array([10, 0, 0, 1, 5])\n",
    "scores = np.array([.1, .2, .3, 4, 70])\n",
    "dcg_score(true_relevance[None,:], scores[None,:])"
   ]
  },
  {
   "cell_type": "code",
   "execution_count": 28,
   "metadata": {},
   "outputs": [
    {
     "data": {
      "text/plain": [
       "5.630929753571458"
      ]
     },
     "execution_count": 28,
     "metadata": {},
     "output_type": "execute_result"
    }
   ],
   "source": [
    "dcg_score(true_relevance[None,:], scores[None,:], k=2)"
   ]
  },
  {
   "cell_type": "code",
   "execution_count": 29,
   "metadata": {},
   "outputs": [
    {
     "data": {
      "text/plain": [
       "7.5"
      ]
     },
     "execution_count": 29,
     "metadata": {},
     "output_type": "execute_result"
    }
   ],
   "source": [
    "scores = np.array([1, 0, 0, 0, 1])\n",
    "# by default ties are averaged, so here we get the average true\n",
    "# relevance of our top predictions: (10 + 5) / 2 = 7.5\n",
    "dcg_score(true_relevance[None,:], scores[None,:], k=1)"
   ]
  },
  {
   "cell_type": "code",
   "execution_count": 30,
   "metadata": {},
   "outputs": [
    {
     "data": {
      "text/plain": [
       "5.0"
      ]
     },
     "execution_count": 30,
     "metadata": {},
     "output_type": "execute_result"
    }
   ],
   "source": [
    "# we can choose to ignore ties for faster results, but only\n",
    "# if we know there aren't ties in our scores, otherwise we get\n",
    "# wrong results:\n",
    "dcg_score(true_relevance[None,:], scores[None,:], k=1, ignore_ties=True)"
   ]
  },
  {
   "cell_type": "code",
   "execution_count": 31,
   "metadata": {},
   "outputs": [
    {
     "data": {
      "text/plain": [
       "array([1.        , 1.44269504, 0.91023923, 0.72134752, 0.62133493,\n",
       "       0.55811063, 0.51389834, 0.48089835, 0.45511961, 0.43429448])"
      ]
     },
     "execution_count": 31,
     "metadata": {},
     "output_type": "execute_result"
    }
   ],
   "source": [
    "true_relevance_ = np.vectorize(lambda x: 1.0 if x == 1.0 else 1/np.log(x))(np.arange(1, recommended_.shape[0]+1, 1))\n",
    "true_relevance_"
   ]
  },
  {
   "cell_type": "code",
   "execution_count": 32,
   "metadata": {},
   "outputs": [
    {
     "data": {
      "text/plain": [
       "array([1., 0., 0., 1., 0., 0., 0., 0., 0., 0.])"
      ]
     },
     "execution_count": 32,
     "metadata": {},
     "output_type": "execute_result"
    }
   ],
   "source": [
    "scores_ = np.isin(recommended_, bought_)*1.0\n",
    "scores_"
   ]
  },
  {
   "cell_type": "code",
   "execution_count": 33,
   "metadata": {},
   "outputs": [
    {
     "data": {
      "text/plain": [
       "0.4591526185507053"
      ]
     },
     "execution_count": 33,
     "metadata": {},
     "output_type": "execute_result"
    }
   ],
   "source": [
    "dcg_score(true_relevance_[None,:], scores_[None,:], k=5)/5"
   ]
  }
 ],
 "metadata": {
  "kernelspec": {
   "display_name": "Python 3",
   "language": "python",
   "name": "python3"
  },
  "language_info": {
   "codemirror_mode": {
    "name": "ipython",
    "version": 3
   },
   "file_extension": ".py",
   "mimetype": "text/x-python",
   "name": "python",
   "nbconvert_exporter": "python",
   "pygments_lexer": "ipython3",
   "version": "3.8.5"
  }
 },
 "nbformat": 4,
 "nbformat_minor": 4
}
