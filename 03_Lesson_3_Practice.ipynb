{
 "cells": [
  {
   "cell_type": "markdown",
   "metadata": {},
   "source": [
    "# Домашнее задание Урока 3\n",
    "\n",
    "### Тема \"Коллаборативная фильтрация.\""
   ]
  },
  {
   "cell_type": "code",
   "execution_count": 1,
   "metadata": {},
   "outputs": [],
   "source": [
    "import time\n",
    "import numpy as np\n",
    "import pandas as pd\n",
    "\n",
    "from implicit.als import AlternatingLeastSquares\n",
    "\n",
    "from implicit.evaluation import train_test_split\n",
    "from implicit.evaluation import precision_at_k, mean_average_precision_at_k, AUC_at_k, ndcg_at_k\n",
    "\n",
    "from IPython.display import display\n",
    "\n",
    "# lib_rs == мои скрипты для Reccomendation System\n",
    "from lib_rs import data_to_sparse_matrix, precision_at_k_\n",
    "from lib_rs import tfidf_weight_, bm25_weight_, cosine_weight_\n",
    "from lib_rs import get_recommendations"
   ]
  },
  {
   "cell_type": "markdown",
   "metadata": {},
   "source": [
    "## Теоретическая часть"
   ]
  },
  {
   "cell_type": "markdown",
   "metadata": {},
   "source": [
    "### Задание 1\n",
    "- Вспомним прошлый вебинар, мы рассматривали User-User рекомендации и Item-Item рекомендации. Чем они отличаются и чем они похожи?\n",
    "\n",
    "Реализаций User-User алгоритма не существует (например в implicit есть ItemItemRecommender, но нет UserUserRecommender). User-User и Item-Item по сути одинаковы и отличаются только входными данными. \n",
    "\n",
    "- Если есть функция item_item_rec(interaction_matrix). Можно ли использовать эту функцию для user_user_rec?\n",
    "\n",
    "Да, если транспонировать interaction_matrix.\n",
    "\n",
    "- В чем принципиальные отличия item-item рекомендаций от ALS?\n",
    "  - ALS в отличие от item-item использует итератвный алгоритм с колличеством итераций (iterations) и скоростью обучения (regularization) для подбора коэффициентов которые в том числе зависят от колличества факторов (factors)."
   ]
  },
  {
   "cell_type": "markdown",
   "metadata": {},
   "source": [
    "### Задание 2\n",
    "- Приведите 3 примера весов (те, которых не было на вебинаре: сумма покупок, количество покупок - неинтересно) user-item матрицы для задачи рекомендаций товаров\n",
    "  - Есть 3 параметра на пересечении user_id и item_id - quantity, sales_value.\n",
    "  - Кроме sales_value nакже есть retail_disc и coupon_match_disc.\n",
    "\n",
    "\n",
    "- Возможные варианты:\n",
    "  1. Можно строить \"таргетирование\" веса, например по топ-5000 по колличеству продаж или по выручке (сумме покупок).\n",
    "  2. По выручке с учетом дискаунтов (sales_value - retail_disc и coupon_match_disc).\n",
    "  3. Веса учитывающие колличество продаж или выручки с учетом K ближайших пользователей или товаров.\n",
    "  4. Можно сделать веса учитывающие популярность брендов или типов товаров."
   ]
  },
  {
   "cell_type": "markdown",
   "metadata": {},
   "source": [
    "### Задание 3\n",
    "- Какие ограничения есть у ALS? (Тип информации, линейность/нелинейность факторов и т д)\n",
    "   - Увеличение числа факторов (factors) или числа итераций (iterations) значитильно увеличиват время обучения модели.\n",
    "   - Можель воспринимает только sparse матрицы (матрицы с разрежением данных), данные должны быть типа float или double.\n",
    "   - ALS это линейная модель с точки зрения факторов (фичей)."
   ]
  },
  {
   "cell_type": "markdown",
   "metadata": {},
   "source": [
    "### Задание 4\n",
    "- Мы рассматривали bm_25_weight. Опишите, как он работает.\n",
    "\n",
    "Ответ:\n",
    "- Формулы BM25 описаны в Интернете, например в википедии.\n",
    "- BM25 ранжирует вероятности выбора пользователями товаров и в зависимости от частоты выбора продукта всеми пользователями и в зависимости от того, какие продукты выбрал конкретный пользователь из всего набора продуктов."
   ]
  },
  {
   "cell_type": "code",
   "execution_count": 2,
   "metadata": {},
   "outputs": [
    {
     "data": {
      "text/html": [
       "<div>\n",
       "<style scoped>\n",
       "    .dataframe tbody tr th:only-of-type {\n",
       "        vertical-align: middle;\n",
       "    }\n",
       "\n",
       "    .dataframe tbody tr th {\n",
       "        vertical-align: top;\n",
       "    }\n",
       "\n",
       "    .dataframe thead th {\n",
       "        text-align: right;\n",
       "    }\n",
       "</style>\n",
       "<table border=\"1\" class=\"dataframe\">\n",
       "  <thead>\n",
       "    <tr style=\"text-align: right;\">\n",
       "      <th></th>\n",
       "      <th>Молоко</th>\n",
       "      <th>Йогурт</th>\n",
       "      <th>Мясо</th>\n",
       "      <th>Рыба</th>\n",
       "    </tr>\n",
       "  </thead>\n",
       "  <tbody>\n",
       "    <tr>\n",
       "      <th>Мария</th>\n",
       "      <td>1</td>\n",
       "      <td>1</td>\n",
       "      <td>1</td>\n",
       "      <td>1</td>\n",
       "    </tr>\n",
       "    <tr>\n",
       "      <th>Анна</th>\n",
       "      <td>1</td>\n",
       "      <td>1</td>\n",
       "      <td>0</td>\n",
       "      <td>0</td>\n",
       "    </tr>\n",
       "    <tr>\n",
       "      <th>Глеб</th>\n",
       "      <td>0</td>\n",
       "      <td>1</td>\n",
       "      <td>1</td>\n",
       "      <td>1</td>\n",
       "    </tr>\n",
       "    <tr>\n",
       "      <th>Никита</th>\n",
       "      <td>1</td>\n",
       "      <td>0</td>\n",
       "      <td>1</td>\n",
       "      <td>0</td>\n",
       "    </tr>\n",
       "    <tr>\n",
       "      <th>Ёси</th>\n",
       "      <td>0</td>\n",
       "      <td>1</td>\n",
       "      <td>0</td>\n",
       "      <td>1</td>\n",
       "    </tr>\n",
       "  </tbody>\n",
       "</table>\n",
       "</div>"
      ],
      "text/plain": [
       "        Молоко  Йогурт  Мясо  Рыба\n",
       "Мария        1       1     1     1\n",
       "Анна         1       1     0     0\n",
       "Глеб         0       1     1     1\n",
       "Никита       1       0     1     0\n",
       "Ёси          0       1     0     1"
      ]
     },
     "execution_count": 2,
     "metadata": {},
     "output_type": "execute_result"
    }
   ],
   "source": [
    "item_names = ['Молоко', 'Йогурт', 'Мясо', 'Рыба']\n",
    "user_names = ['Мария', 'Анна', 'Глеб', 'Никита', 'Ёси']\n",
    "users_items = np.array([[1,1,1,1],[1,1,0,0],[0,1,1,1],[1,0,1,0], [0,1,0,1]])\n",
    "df = pd.DataFrame(data=users_items, index=user_names, columns=item_names)\n",
    "df"
   ]
  },
  {
   "cell_type": "code",
   "execution_count": 3,
   "metadata": {},
   "outputs": [
    {
     "data": {
      "text/html": [
       "<div>\n",
       "<style scoped>\n",
       "    .dataframe tbody tr th:only-of-type {\n",
       "        vertical-align: middle;\n",
       "    }\n",
       "\n",
       "    .dataframe tbody tr th {\n",
       "        vertical-align: top;\n",
       "    }\n",
       "\n",
       "    .dataframe thead th {\n",
       "        text-align: right;\n",
       "    }\n",
       "</style>\n",
       "<table border=\"1\" class=\"dataframe\">\n",
       "  <thead>\n",
       "    <tr style=\"text-align: right;\">\n",
       "      <th></th>\n",
       "      <th>user_id</th>\n",
       "      <th>item_id</th>\n",
       "      <th>quantity</th>\n",
       "    </tr>\n",
       "  </thead>\n",
       "  <tbody>\n",
       "    <tr>\n",
       "      <th>0</th>\n",
       "      <td>0</td>\n",
       "      <td>0</td>\n",
       "      <td>1</td>\n",
       "    </tr>\n",
       "    <tr>\n",
       "      <th>1</th>\n",
       "      <td>1</td>\n",
       "      <td>0</td>\n",
       "      <td>1</td>\n",
       "    </tr>\n",
       "    <tr>\n",
       "      <th>2</th>\n",
       "      <td>2</td>\n",
       "      <td>0</td>\n",
       "      <td>0</td>\n",
       "    </tr>\n",
       "    <tr>\n",
       "      <th>3</th>\n",
       "      <td>3</td>\n",
       "      <td>0</td>\n",
       "      <td>1</td>\n",
       "    </tr>\n",
       "    <tr>\n",
       "      <th>4</th>\n",
       "      <td>4</td>\n",
       "      <td>0</td>\n",
       "      <td>0</td>\n",
       "    </tr>\n",
       "  </tbody>\n",
       "</table>\n",
       "</div>"
      ],
      "text/plain": [
       "   user_id item_id  quantity\n",
       "0        0       0         1\n",
       "1        1       0         1\n",
       "2        2       0         0\n",
       "3        3       0         1\n",
       "4        4       0         0"
      ]
     },
     "execution_count": 3,
     "metadata": {},
     "output_type": "execute_result"
    }
   ],
   "source": [
    "data_train = pd.DataFrame(users_items, index=range(len(user_names)), columns=range(len(item_names)))\n",
    "cols = data_train.columns\n",
    "data_train['user_id'] = data_train.index\n",
    "data_train = pd.melt(data_train, id_vars=['user_id'], value_vars=cols.values).\\\n",
    "                 rename(columns={'variable': 'item_id', 'value': 'quantity'}).reindex()\n",
    "data_train.head()"
   ]
  },
  {
   "cell_type": "code",
   "execution_count": 4,
   "metadata": {},
   "outputs": [
    {
     "data": {
      "text/plain": [
       "array([[1., 1., 0., 1., 0.],\n",
       "       [1., 1., 1., 0., 1.],\n",
       "       [1., 0., 1., 1., 0.],\n",
       "       [1., 0., 1., 0., 1.]])"
      ]
     },
     "execution_count": 4,
     "metadata": {},
     "output_type": "execute_result"
    }
   ],
   "source": [
    "sparse_user_item, id_to_itemid, userid_to_id = data_to_sparse_matrix(data_train)\n",
    "sparse_user_item.toarray().T"
   ]
  },
  {
   "cell_type": "code",
   "execution_count": 5,
   "metadata": {},
   "outputs": [
    {
     "data": {
      "text/plain": [
       "array([[-0.23762164, -0.18865904, -0.23762164, -0.23762164],\n",
       "       [ 0.30634758,  0.2432238 ,  0.        ,  0.        ],\n",
       "       [ 0.        ,  0.        ,  0.        ,  0.        ],\n",
       "       [ 0.30634758,  0.        ,  0.30634758,  0.        ],\n",
       "       [ 0.        ,  0.2432238 ,  0.        ,  0.30634758]])"
      ]
     },
     "execution_count": 5,
     "metadata": {},
     "output_type": "execute_result"
    }
   ],
   "source": [
    "bm25 = bm25_weight_(sparse_user_item.toarray().T).T.toarray()\n",
    "bm25"
   ]
  },
  {
   "cell_type": "code",
   "execution_count": 6,
   "metadata": {},
   "outputs": [
    {
     "data": {
      "text/html": [
       "<div>\n",
       "<style scoped>\n",
       "    .dataframe tbody tr th:only-of-type {\n",
       "        vertical-align: middle;\n",
       "    }\n",
       "\n",
       "    .dataframe tbody tr th {\n",
       "        vertical-align: top;\n",
       "    }\n",
       "\n",
       "    .dataframe thead th {\n",
       "        text-align: right;\n",
       "    }\n",
       "</style>\n",
       "<table border=\"1\" class=\"dataframe\">\n",
       "  <thead>\n",
       "    <tr style=\"text-align: right;\">\n",
       "      <th></th>\n",
       "      <th>Молоко</th>\n",
       "      <th>Йогурт</th>\n",
       "      <th>Мясо</th>\n",
       "      <th>Рыба</th>\n",
       "    </tr>\n",
       "  </thead>\n",
       "  <tbody>\n",
       "    <tr>\n",
       "      <th>Мария</th>\n",
       "      <td>-0.237622</td>\n",
       "      <td>-0.188659</td>\n",
       "      <td>-0.237622</td>\n",
       "      <td>-0.237622</td>\n",
       "    </tr>\n",
       "    <tr>\n",
       "      <th>Анна</th>\n",
       "      <td>0.306348</td>\n",
       "      <td>0.243224</td>\n",
       "      <td>0.000000</td>\n",
       "      <td>0.000000</td>\n",
       "    </tr>\n",
       "    <tr>\n",
       "      <th>Глеб</th>\n",
       "      <td>0.000000</td>\n",
       "      <td>0.000000</td>\n",
       "      <td>0.000000</td>\n",
       "      <td>0.000000</td>\n",
       "    </tr>\n",
       "    <tr>\n",
       "      <th>Никита</th>\n",
       "      <td>0.306348</td>\n",
       "      <td>0.000000</td>\n",
       "      <td>0.306348</td>\n",
       "      <td>0.000000</td>\n",
       "    </tr>\n",
       "    <tr>\n",
       "      <th>Ёси</th>\n",
       "      <td>0.000000</td>\n",
       "      <td>0.243224</td>\n",
       "      <td>0.000000</td>\n",
       "      <td>0.306348</td>\n",
       "    </tr>\n",
       "  </tbody>\n",
       "</table>\n",
       "</div>"
      ],
      "text/plain": [
       "          Молоко    Йогурт      Мясо      Рыба\n",
       "Мария  -0.237622 -0.188659 -0.237622 -0.237622\n",
       "Анна    0.306348  0.243224  0.000000  0.000000\n",
       "Глеб    0.000000  0.000000  0.000000  0.000000\n",
       "Никита  0.306348  0.000000  0.306348  0.000000\n",
       "Ёси     0.000000  0.243224  0.000000  0.306348"
      ]
     },
     "execution_count": 6,
     "metadata": {},
     "output_type": "execute_result"
    }
   ],
   "source": [
    "pd.DataFrame(bm25, index=user_names, columns=item_names)"
   ]
  },
  {
   "cell_type": "markdown",
   "metadata": {},
   "source": [
    "- Как сделать рекомендации только на основе bm_25?\n",
    "- (Можно и нужно пользоваться любыми источниками, приложите на них ссылки).\n",
    "\n",
    "Для каждого пользователя выбрать топ К продуктов на остовании BM25."
   ]
  },
  {
   "cell_type": "code",
   "execution_count": 7,
   "metadata": {},
   "outputs": [
    {
     "data": {
      "text/html": [
       "<div>\n",
       "<style scoped>\n",
       "    .dataframe tbody tr th:only-of-type {\n",
       "        vertical-align: middle;\n",
       "    }\n",
       "\n",
       "    .dataframe tbody tr th {\n",
       "        vertical-align: top;\n",
       "    }\n",
       "\n",
       "    .dataframe thead th {\n",
       "        text-align: right;\n",
       "    }\n",
       "</style>\n",
       "<table border=\"1\" class=\"dataframe\">\n",
       "  <thead>\n",
       "    <tr style=\"text-align: right;\">\n",
       "      <th></th>\n",
       "      <th>Молоко</th>\n",
       "      <th>Йогурт</th>\n",
       "      <th>Мясо</th>\n",
       "      <th>Рыба</th>\n",
       "      <th>Рекомендация</th>\n",
       "    </tr>\n",
       "  </thead>\n",
       "  <tbody>\n",
       "    <tr>\n",
       "      <th>Мария</th>\n",
       "      <td>1</td>\n",
       "      <td>1</td>\n",
       "      <td>1</td>\n",
       "      <td>1</td>\n",
       "      <td>[Йогурт, Рыба]</td>\n",
       "    </tr>\n",
       "    <tr>\n",
       "      <th>Анна</th>\n",
       "      <td>1</td>\n",
       "      <td>1</td>\n",
       "      <td>0</td>\n",
       "      <td>0</td>\n",
       "      <td>[Молоко, Йогурт]</td>\n",
       "    </tr>\n",
       "    <tr>\n",
       "      <th>Глеб</th>\n",
       "      <td>0</td>\n",
       "      <td>1</td>\n",
       "      <td>1</td>\n",
       "      <td>1</td>\n",
       "      <td>[Рыба, Мясо]</td>\n",
       "    </tr>\n",
       "    <tr>\n",
       "      <th>Никита</th>\n",
       "      <td>1</td>\n",
       "      <td>0</td>\n",
       "      <td>1</td>\n",
       "      <td>0</td>\n",
       "      <td>[Мясо, Молоко]</td>\n",
       "    </tr>\n",
       "    <tr>\n",
       "      <th>Ёси</th>\n",
       "      <td>0</td>\n",
       "      <td>1</td>\n",
       "      <td>0</td>\n",
       "      <td>1</td>\n",
       "      <td>[Рыба, Йогурт]</td>\n",
       "    </tr>\n",
       "  </tbody>\n",
       "</table>\n",
       "</div>"
      ],
      "text/plain": [
       "        Молоко  Йогурт  Мясо  Рыба      Рекомендация\n",
       "Мария        1       1     1     1    [Йогурт, Рыба]\n",
       "Анна         1       1     0     0  [Молоко, Йогурт]\n",
       "Глеб         0       1     1     1      [Рыба, Мясо]\n",
       "Никита       1       0     1     0    [Мясо, Молоко]\n",
       "Ёси          0       1     0     1    [Рыба, Йогурт]"
      ]
     },
     "execution_count": 7,
     "metadata": {},
     "output_type": "execute_result"
    }
   ],
   "source": [
    "K = 2\n",
    "df1 = df.copy()\n",
    "df1['Рекомендация'] = [list(np.array(item_names)[bm25[user_id].argsort()[::-1]][:K]) for user_id in range(len(df))]\n",
    "df1"
   ]
  },
  {
   "cell_type": "markdown",
   "metadata": {},
   "source": [
    "- Какие еще способы перевзвешивания user-item матрицы Вы знаете / можете предложить (ещё 2-3 способа)?\n",
    "  - TFIDF, Cosine Similarity, Pearson Similarity, KNN.\n",
    "  - Реализации алгоритмов которые нашел приведены в lib_rs [tfidf_weight, bm25_weight, cosine_weight]."
   ]
  },
  {
   "cell_type": "code",
   "execution_count": 8,
   "metadata": {},
   "outputs": [
    {
     "name": "stdout",
     "output_type": "stream",
     "text": [
      "tfidf_weight\n"
     ]
    },
    {
     "data": {
      "text/html": [
       "<div>\n",
       "<style scoped>\n",
       "    .dataframe tbody tr th:only-of-type {\n",
       "        vertical-align: middle;\n",
       "    }\n",
       "\n",
       "    .dataframe tbody tr th {\n",
       "        vertical-align: top;\n",
       "    }\n",
       "\n",
       "    .dataframe thead th {\n",
       "        text-align: right;\n",
       "    }\n",
       "</style>\n",
       "<table border=\"1\" class=\"dataframe\">\n",
       "  <thead>\n",
       "    <tr style=\"text-align: right;\">\n",
       "      <th></th>\n",
       "      <th>Молоко</th>\n",
       "      <th>Йогурт</th>\n",
       "      <th>Мясо</th>\n",
       "      <th>Рыба</th>\n",
       "    </tr>\n",
       "  </thead>\n",
       "  <tbody>\n",
       "    <tr>\n",
       "      <th>Мария</th>\n",
       "      <td>-0.223144</td>\n",
       "      <td>-0.223144</td>\n",
       "      <td>-0.223144</td>\n",
       "      <td>-0.223144</td>\n",
       "    </tr>\n",
       "    <tr>\n",
       "      <th>Анна</th>\n",
       "      <td>0.287682</td>\n",
       "      <td>0.287682</td>\n",
       "      <td>0.000000</td>\n",
       "      <td>0.000000</td>\n",
       "    </tr>\n",
       "    <tr>\n",
       "      <th>Глеб</th>\n",
       "      <td>0.000000</td>\n",
       "      <td>0.000000</td>\n",
       "      <td>0.000000</td>\n",
       "      <td>0.000000</td>\n",
       "    </tr>\n",
       "    <tr>\n",
       "      <th>Никита</th>\n",
       "      <td>0.287682</td>\n",
       "      <td>0.000000</td>\n",
       "      <td>0.287682</td>\n",
       "      <td>0.000000</td>\n",
       "    </tr>\n",
       "    <tr>\n",
       "      <th>Ёси</th>\n",
       "      <td>0.000000</td>\n",
       "      <td>0.287682</td>\n",
       "      <td>0.000000</td>\n",
       "      <td>0.287682</td>\n",
       "    </tr>\n",
       "  </tbody>\n",
       "</table>\n",
       "</div>"
      ],
      "text/plain": [
       "          Молоко    Йогурт      Мясо      Рыба\n",
       "Мария  -0.223144 -0.223144 -0.223144 -0.223144\n",
       "Анна    0.287682  0.287682  0.000000  0.000000\n",
       "Глеб    0.000000  0.000000  0.000000  0.000000\n",
       "Никита  0.287682  0.000000  0.287682  0.000000\n",
       "Ёси     0.000000  0.287682  0.000000  0.287682"
      ]
     },
     "metadata": {},
     "output_type": "display_data"
    },
    {
     "name": "stdout",
     "output_type": "stream",
     "text": [
      "bm25_weight\n"
     ]
    },
    {
     "data": {
      "text/html": [
       "<div>\n",
       "<style scoped>\n",
       "    .dataframe tbody tr th:only-of-type {\n",
       "        vertical-align: middle;\n",
       "    }\n",
       "\n",
       "    .dataframe tbody tr th {\n",
       "        vertical-align: top;\n",
       "    }\n",
       "\n",
       "    .dataframe thead th {\n",
       "        text-align: right;\n",
       "    }\n",
       "</style>\n",
       "<table border=\"1\" class=\"dataframe\">\n",
       "  <thead>\n",
       "    <tr style=\"text-align: right;\">\n",
       "      <th></th>\n",
       "      <th>Молоко</th>\n",
       "      <th>Йогурт</th>\n",
       "      <th>Мясо</th>\n",
       "      <th>Рыба</th>\n",
       "    </tr>\n",
       "  </thead>\n",
       "  <tbody>\n",
       "    <tr>\n",
       "      <th>Мария</th>\n",
       "      <td>-0.237622</td>\n",
       "      <td>-0.188659</td>\n",
       "      <td>-0.237622</td>\n",
       "      <td>-0.237622</td>\n",
       "    </tr>\n",
       "    <tr>\n",
       "      <th>Анна</th>\n",
       "      <td>0.306348</td>\n",
       "      <td>0.243224</td>\n",
       "      <td>0.000000</td>\n",
       "      <td>0.000000</td>\n",
       "    </tr>\n",
       "    <tr>\n",
       "      <th>Глеб</th>\n",
       "      <td>0.000000</td>\n",
       "      <td>0.000000</td>\n",
       "      <td>0.000000</td>\n",
       "      <td>0.000000</td>\n",
       "    </tr>\n",
       "    <tr>\n",
       "      <th>Никита</th>\n",
       "      <td>0.306348</td>\n",
       "      <td>0.000000</td>\n",
       "      <td>0.306348</td>\n",
       "      <td>0.000000</td>\n",
       "    </tr>\n",
       "    <tr>\n",
       "      <th>Ёси</th>\n",
       "      <td>0.000000</td>\n",
       "      <td>0.243224</td>\n",
       "      <td>0.000000</td>\n",
       "      <td>0.306348</td>\n",
       "    </tr>\n",
       "  </tbody>\n",
       "</table>\n",
       "</div>"
      ],
      "text/plain": [
       "          Молоко    Йогурт      Мясо      Рыба\n",
       "Мария  -0.237622 -0.188659 -0.237622 -0.237622\n",
       "Анна    0.306348  0.243224  0.000000  0.000000\n",
       "Глеб    0.000000  0.000000  0.000000  0.000000\n",
       "Никита  0.306348  0.000000  0.306348  0.000000\n",
       "Ёси     0.000000  0.243224  0.000000  0.306348"
      ]
     },
     "metadata": {},
     "output_type": "display_data"
    },
    {
     "name": "stdout",
     "output_type": "stream",
     "text": [
      "cosine_weight\n"
     ]
    },
    {
     "data": {
      "text/html": [
       "<div>\n",
       "<style scoped>\n",
       "    .dataframe tbody tr th:only-of-type {\n",
       "        vertical-align: middle;\n",
       "    }\n",
       "\n",
       "    .dataframe tbody tr th {\n",
       "        vertical-align: top;\n",
       "    }\n",
       "\n",
       "    .dataframe thead th {\n",
       "        text-align: right;\n",
       "    }\n",
       "</style>\n",
       "<table border=\"1\" class=\"dataframe\">\n",
       "  <thead>\n",
       "    <tr style=\"text-align: right;\">\n",
       "      <th></th>\n",
       "      <th>Молоко</th>\n",
       "      <th>Йогурт</th>\n",
       "      <th>Мясо</th>\n",
       "      <th>Рыба</th>\n",
       "    </tr>\n",
       "  </thead>\n",
       "  <tbody>\n",
       "    <tr>\n",
       "      <th>Мария</th>\n",
       "      <td>0.57735</td>\n",
       "      <td>0.5</td>\n",
       "      <td>0.57735</td>\n",
       "      <td>0.57735</td>\n",
       "    </tr>\n",
       "    <tr>\n",
       "      <th>Анна</th>\n",
       "      <td>0.57735</td>\n",
       "      <td>0.5</td>\n",
       "      <td>0.00000</td>\n",
       "      <td>0.00000</td>\n",
       "    </tr>\n",
       "    <tr>\n",
       "      <th>Глеб</th>\n",
       "      <td>0.00000</td>\n",
       "      <td>0.5</td>\n",
       "      <td>0.57735</td>\n",
       "      <td>0.57735</td>\n",
       "    </tr>\n",
       "    <tr>\n",
       "      <th>Никита</th>\n",
       "      <td>0.57735</td>\n",
       "      <td>0.0</td>\n",
       "      <td>0.57735</td>\n",
       "      <td>0.00000</td>\n",
       "    </tr>\n",
       "    <tr>\n",
       "      <th>Ёси</th>\n",
       "      <td>0.00000</td>\n",
       "      <td>0.5</td>\n",
       "      <td>0.00000</td>\n",
       "      <td>0.57735</td>\n",
       "    </tr>\n",
       "  </tbody>\n",
       "</table>\n",
       "</div>"
      ],
      "text/plain": [
       "         Молоко  Йогурт     Мясо     Рыба\n",
       "Мария   0.57735     0.5  0.57735  0.57735\n",
       "Анна    0.57735     0.5  0.00000  0.00000\n",
       "Глеб    0.00000     0.5  0.57735  0.57735\n",
       "Никита  0.57735     0.0  0.57735  0.00000\n",
       "Ёси     0.00000     0.5  0.00000  0.57735"
      ]
     },
     "metadata": {},
     "output_type": "display_data"
    }
   ],
   "source": [
    "algorithms = [['tfidf_weight', tfidf_weight_], ['bm25_weight', bm25_weight_], ['cosine_weight', cosine_weight_]]\n",
    "for name, algorithm in algorithms:\n",
    "    print(name)\n",
    "    display(pd.DataFrame(algorithm(sparse_user_item.toarray().T).T.toarray(), index=user_names, columns=item_names))"
   ]
  },
  {
   "cell_type": "markdown",
   "metadata": {},
   "source": [
    "## Практическая часть\n"
   ]
  },
  {
   "cell_type": "markdown",
   "metadata": {},
   "source": [
    "##### Загрузка данных<a class=\"anchor\" id=\"load_data\"></a>"
   ]
  },
  {
   "cell_type": "code",
   "execution_count": 9,
   "metadata": {},
   "outputs": [],
   "source": [
    "data = pd.read_csv('./data/retail_train.csv')"
   ]
  },
  {
   "cell_type": "markdown",
   "metadata": {},
   "source": [
    "##### Разделение на train и test"
   ]
  },
  {
   "cell_type": "code",
   "execution_count": 10,
   "metadata": {},
   "outputs": [
    {
     "data": {
      "text/html": [
       "<div>\n",
       "<style scoped>\n",
       "    .dataframe tbody tr th:only-of-type {\n",
       "        vertical-align: middle;\n",
       "    }\n",
       "\n",
       "    .dataframe tbody tr th {\n",
       "        vertical-align: top;\n",
       "    }\n",
       "\n",
       "    .dataframe thead th {\n",
       "        text-align: right;\n",
       "    }\n",
       "</style>\n",
       "<table border=\"1\" class=\"dataframe\">\n",
       "  <thead>\n",
       "    <tr style=\"text-align: right;\">\n",
       "      <th></th>\n",
       "      <th>user_id</th>\n",
       "      <th>basket_id</th>\n",
       "      <th>day</th>\n",
       "      <th>item_id</th>\n",
       "      <th>quantity</th>\n",
       "      <th>sales_value</th>\n",
       "      <th>store_id</th>\n",
       "      <th>retail_disc</th>\n",
       "      <th>trans_time</th>\n",
       "      <th>week_no</th>\n",
       "      <th>coupon_disc</th>\n",
       "      <th>coupon_match_disc</th>\n",
       "    </tr>\n",
       "  </thead>\n",
       "  <tbody>\n",
       "    <tr>\n",
       "      <th>0</th>\n",
       "      <td>2375</td>\n",
       "      <td>26984851472</td>\n",
       "      <td>1</td>\n",
       "      <td>1004906</td>\n",
       "      <td>1</td>\n",
       "      <td>1.39</td>\n",
       "      <td>364</td>\n",
       "      <td>-0.6</td>\n",
       "      <td>1631</td>\n",
       "      <td>1</td>\n",
       "      <td>0.0</td>\n",
       "      <td>0.0</td>\n",
       "    </tr>\n",
       "    <tr>\n",
       "      <th>1</th>\n",
       "      <td>2375</td>\n",
       "      <td>26984851472</td>\n",
       "      <td>1</td>\n",
       "      <td>1033142</td>\n",
       "      <td>1</td>\n",
       "      <td>0.82</td>\n",
       "      <td>364</td>\n",
       "      <td>0.0</td>\n",
       "      <td>1631</td>\n",
       "      <td>1</td>\n",
       "      <td>0.0</td>\n",
       "      <td>0.0</td>\n",
       "    </tr>\n",
       "  </tbody>\n",
       "</table>\n",
       "</div>"
      ],
      "text/plain": [
       "   user_id    basket_id  day  item_id  quantity  sales_value  store_id  \\\n",
       "0     2375  26984851472    1  1004906         1         1.39       364   \n",
       "1     2375  26984851472    1  1033142         1         0.82       364   \n",
       "\n",
       "   retail_disc  trans_time  week_no  coupon_disc  coupon_match_disc  \n",
       "0         -0.6        1631        1          0.0                0.0  \n",
       "1          0.0        1631        1          0.0                0.0  "
      ]
     },
     "execution_count": 10,
     "metadata": {},
     "output_type": "execute_result"
    }
   ],
   "source": [
    "test_size_weeks = 3\n",
    "data_train = data[data['week_no'] < data['week_no'].max() - test_size_weeks].copy()\n",
    "data_test = data[data['week_no'] >= data['week_no'].max() - test_size_weeks].copy()\n",
    "data_train_copy, data_test_copy = data_train.copy(), data_test.copy()\n",
    "data_train.shape[0], data_test.shape[0]\n",
    "data_train.head(2)"
   ]
  },
  {
   "cell_type": "markdown",
   "metadata": {},
   "source": [
    "##### Создадим датафрейм с покупками юзеров на тестовом датасете (последние 3 недели)"
   ]
  },
  {
   "cell_type": "code",
   "execution_count": 11,
   "metadata": {},
   "outputs": [
    {
     "data": {
      "text/html": [
       "<div>\n",
       "<style scoped>\n",
       "    .dataframe tbody tr th:only-of-type {\n",
       "        vertical-align: middle;\n",
       "    }\n",
       "\n",
       "    .dataframe tbody tr th {\n",
       "        vertical-align: top;\n",
       "    }\n",
       "\n",
       "    .dataframe thead th {\n",
       "        text-align: right;\n",
       "    }\n",
       "</style>\n",
       "<table border=\"1\" class=\"dataframe\">\n",
       "  <thead>\n",
       "    <tr style=\"text-align: right;\">\n",
       "      <th></th>\n",
       "      <th>user_id</th>\n",
       "      <th>actual</th>\n",
       "    </tr>\n",
       "  </thead>\n",
       "  <tbody>\n",
       "    <tr>\n",
       "      <th>0</th>\n",
       "      <td>1</td>\n",
       "      <td>[821867, 834484, 856942, 865456, 889248, 90795...</td>\n",
       "    </tr>\n",
       "    <tr>\n",
       "      <th>1</th>\n",
       "      <td>3</td>\n",
       "      <td>[835476, 851057, 872021, 878302, 879948, 90963...</td>\n",
       "    </tr>\n",
       "    <tr>\n",
       "      <th>2</th>\n",
       "      <td>6</td>\n",
       "      <td>[920308, 926804, 946489, 1006718, 1017061, 107...</td>\n",
       "    </tr>\n",
       "  </tbody>\n",
       "</table>\n",
       "</div>"
      ],
      "text/plain": [
       "   user_id                                             actual\n",
       "0        1  [821867, 834484, 856942, 865456, 889248, 90795...\n",
       "1        3  [835476, 851057, 872021, 878302, 879948, 90963...\n",
       "2        6  [920308, 926804, 946489, 1006718, 1017061, 107..."
      ]
     },
     "execution_count": 11,
     "metadata": {},
     "output_type": "execute_result"
    }
   ],
   "source": [
    "result = data_test.groupby('user_id')['item_id'].unique().reset_index()\n",
    "result.columns=['user_id', 'actual']\n",
    "result['actual'] = result['actual'].apply(lambda x: list(x))\n",
    "result_copy = result.copy()\n",
    "result.head(3)"
   ]
  },
  {
   "cell_type": "markdown",
   "metadata": {},
   "source": [
    "##### Топ 5000 товаров"
   ]
  },
  {
   "cell_type": "code",
   "execution_count": 12,
   "metadata": {},
   "outputs": [],
   "source": [
    "popularity = data_train.groupby('item_id')['quantity'].sum().reset_index()\n",
    "popularity.rename(columns={'quantity': 'n_sold'}, inplace=True)\n",
    "top_5000 = popularity.sort_values('n_sold', ascending=False).head(5000).item_id.tolist()"
   ]
  },
  {
   "cell_type": "markdown",
   "metadata": {},
   "source": [
    "##### Заведем фиктивный item_id (если юзер НЕ покупал товары из топ-5000, то он \"купил\" такой товар)"
   ]
  },
  {
   "cell_type": "code",
   "execution_count": 13,
   "metadata": {},
   "outputs": [],
   "source": [
    "data_train = data_train_copy.copy()\n",
    "data_train.loc[~data_train['item_id'].isin(top_5000), 'item_id'] = 999999"
   ]
  },
  {
   "cell_type": "markdown",
   "metadata": {},
   "source": [
    "##### sparse матрица"
   ]
  },
  {
   "cell_type": "code",
   "execution_count": 14,
   "metadata": {},
   "outputs": [],
   "source": [
    "sparse_user_item, id_to_itemid, userid_to_id = data_to_sparse_matrix(data_train)"
   ]
  },
  {
   "cell_type": "code",
   "execution_count": 15,
   "metadata": {},
   "outputs": [
    {
     "name": "stdout",
     "output_type": "stream",
     "text": [
      "als                  :\n"
     ]
    },
    {
     "data": {
      "application/vnd.jupyter.widget-view+json": {
       "model_id": "561ee4825a234346b51c3f0fcbae3e51",
       "version_major": 2,
       "version_minor": 0
      },
      "text/plain": [
       "  0%|          | 0/15 [00:00<?, ?it/s]"
      ]
     },
     "metadata": {},
     "output_type": "display_data"
    },
    {
     "name": "stdout",
     "output_type": "stream",
     "text": [
      "     fit: 13.1 sec\n",
      "  result: 43.8 sec\n",
      "tfidf_weight         :\n"
     ]
    },
    {
     "data": {
      "application/vnd.jupyter.widget-view+json": {
       "model_id": "f0051e5f15ed411e86cd82a30a719c2b",
       "version_major": 2,
       "version_minor": 0
      },
      "text/plain": [
       "  0%|          | 0/15 [00:00<?, ?it/s]"
      ]
     },
     "metadata": {},
     "output_type": "display_data"
    },
    {
     "name": "stdout",
     "output_type": "stream",
     "text": [
      "     fit: 14.7 sec\n",
      "  result: 71.0 sec\n",
      "bm25_weight          :\n"
     ]
    },
    {
     "data": {
      "application/vnd.jupyter.widget-view+json": {
       "model_id": "9140996a38e1425eaf58838eb6419b03",
       "version_major": 2,
       "version_minor": 0
      },
      "text/plain": [
       "  0%|          | 0/15 [00:00<?, ?it/s]"
      ]
     },
     "metadata": {},
     "output_type": "display_data"
    },
    {
     "name": "stdout",
     "output_type": "stream",
     "text": [
      "     fit: 15.8 sec\n",
      "  result: 85.6 sec\n",
      "cosine_weight        :\n"
     ]
    },
    {
     "data": {
      "application/vnd.jupyter.widget-view+json": {
       "model_id": "5ecd09f23bcf4cf98b7f77bc90217942",
       "version_major": 2,
       "version_minor": 0
      },
      "text/plain": [
       "  0%|          | 0/15 [00:00<?, ?it/s]"
      ]
     },
     "metadata": {},
     "output_type": "display_data"
    },
    {
     "name": "stdout",
     "output_type": "stream",
     "text": [
      "     fit: 14.4 sec\n",
      "  result: 68.4 sec\n"
     ]
    }
   ],
   "source": [
    "algorithms = [['als', None], ['tfidf_weight', tfidf_weight_], ['bm25_weight', bm25_weight_], ['cosine_weight', cosine_weight_]]\n",
    "models = []\n",
    "for name, algorithm in algorithms:\n",
    "    print(f\"{name:20} :\")\n",
    "    sparse_user_item_ = sparse_user_item if algorithm is None else algorithm(sparse_user_item.toarray().T).T\n",
    "    start = time.process_time()\n",
    "    model = AlternatingLeastSquares(factors=100, regularization=0.001, iterations=15, calculate_training_loss=True, num_threads=4)\n",
    "    model.fit(sparse_user_item_.T, show_progress=True)\n",
    "    models.append(model)\n",
    "    print(f\"     fit: {time.process_time()-start:.3} sec\")\n",
    "    start = time.process_time()\n",
    "    result[name] = result['user_id'].apply(lambda user_id: get_recommendations(model, sparse_user_item_,\n",
    "                                                                               userid=user_id, N=5,\n",
    "                                                                               id2i=id_to_itemid, u2id=userid_to_id))\n",
    "    print(f\"  result: {time.process_time()-start:.3} sec\")"
   ]
  },
  {
   "cell_type": "code",
   "execution_count": 16,
   "metadata": {},
   "outputs": [],
   "source": [
    "data_test = data_test_copy.copy()\n",
    "data_test.loc[~data_test['item_id'].isin(top_5000), 'item_id'] = 999999"
   ]
  },
  {
   "cell_type": "code",
   "execution_count": 17,
   "metadata": {},
   "outputs": [],
   "source": [
    "sparse_user_item_test, id_to_itemid_, userid_to_id = data_to_sparse_matrix(data_test)"
   ]
  },
  {
   "cell_type": "code",
   "execution_count": 18,
   "metadata": {},
   "outputs": [
    {
     "name": "stdout",
     "output_type": "stream",
     "text": [
      "  result: 7.75 sec\n",
      "  result: 7.04 sec\n",
      "  result: 6.5 sec\n",
      "  result: 6.74 sec\n"
     ]
    }
   ],
   "source": [
    "for i, (name, algorithm) in enumerate(algorithms):\n",
    "    model = models[i]\n",
    "    start = time.process_time()\n",
    "    name = name + '_test'\n",
    "    result[name] = result['user_id'].apply(lambda user_id: get_recommendations(model, sparse_user_item_test,\n",
    "                                                                               userid=user_id, N=5,\n",
    "                                                                               id2i=id_to_itemid, u2id=userid_to_id))\n",
    "    print(f\"  result: {time.process_time()-start:.3} sec\")"
   ]
  },
  {
   "cell_type": "markdown",
   "metadata": {},
   "source": [
    "### Подбор матрицы $c_{ui}$\n",
    "- Попробуйте различные варианты матрицы весов (3+ вариантов).\n",
    "- Обучите алгоритм для различных $C$. \n",
    "- В качестве результата приведите таблицу: матрица весов - результат на train и validation.\n",
    "- Сделате качественные выводы."
   ]
  },
  {
   "cell_type": "code",
   "execution_count": 19,
   "metadata": {},
   "outputs": [
    {
     "data": {
      "text/html": [
       "<div>\n",
       "<style scoped>\n",
       "    .dataframe tbody tr th:only-of-type {\n",
       "        vertical-align: middle;\n",
       "    }\n",
       "\n",
       "    .dataframe tbody tr th {\n",
       "        vertical-align: top;\n",
       "    }\n",
       "\n",
       "    .dataframe thead th {\n",
       "        text-align: right;\n",
       "    }\n",
       "</style>\n",
       "<table border=\"1\" class=\"dataframe\">\n",
       "  <thead>\n",
       "    <tr style=\"text-align: right;\">\n",
       "      <th></th>\n",
       "      <th>user_id</th>\n",
       "      <th>actual</th>\n",
       "      <th>als</th>\n",
       "      <th>tfidf_weight</th>\n",
       "      <th>bm25_weight</th>\n",
       "      <th>cosine_weight</th>\n",
       "      <th>als_test</th>\n",
       "      <th>tfidf_weight_test</th>\n",
       "      <th>bm25_weight_test</th>\n",
       "      <th>cosine_weight_test</th>\n",
       "    </tr>\n",
       "  </thead>\n",
       "  <tbody>\n",
       "    <tr>\n",
       "      <th>0</th>\n",
       "      <td>1</td>\n",
       "      <td>[821867, 834484, 856942, 865456, 889248, 90795...</td>\n",
       "      <td>[995242, 1033142, 979707, 1005186, 1082185]</td>\n",
       "      <td>[1051211, 1033142, 1005186, 979707, 1105488]</td>\n",
       "      <td>[999999, 1082185, 1135694, 963835, 8090541]</td>\n",
       "      <td>[1082185, 999999, 995242, 840361, 1029743]</td>\n",
       "      <td>[833025, 1071939, 995785, 1110572, 1046262]</td>\n",
       "      <td>[1046262, 970202, 1071939, 833025, 1022003]</td>\n",
       "      <td>[999999, 835788, 1090017, 995785, 968057]</td>\n",
       "      <td>[833025, 859075, 1007195, 995785, 962229]</td>\n",
       "    </tr>\n",
       "    <tr>\n",
       "      <th>1</th>\n",
       "      <td>3</td>\n",
       "      <td>[835476, 851057, 872021, 878302, 879948, 90963...</td>\n",
       "      <td>[1133018, 1106523, 910032, 1022003, 826249]</td>\n",
       "      <td>[951590, 910032, 1051069, 938700, 9337581]</td>\n",
       "      <td>[951590, 826249, 9337581, 9337369, 1044078]</td>\n",
       "      <td>[1098066, 826249, 999999, 1082185, 1044078]</td>\n",
       "      <td>[874736, 907631, 6034857, 962118, 1039589]</td>\n",
       "      <td>[907631, 874736, 962118, 940947, 882441]</td>\n",
       "      <td>[1066783, 1133877, 868909, 9526412, 9396770]</td>\n",
       "      <td>[874736, 1103105, 907631, 6463789, 906838]</td>\n",
       "    </tr>\n",
       "  </tbody>\n",
       "</table>\n",
       "</div>"
      ],
      "text/plain": [
       "   user_id                                             actual  \\\n",
       "0        1  [821867, 834484, 856942, 865456, 889248, 90795...   \n",
       "1        3  [835476, 851057, 872021, 878302, 879948, 90963...   \n",
       "\n",
       "                                           als  \\\n",
       "0  [995242, 1033142, 979707, 1005186, 1082185]   \n",
       "1  [1133018, 1106523, 910032, 1022003, 826249]   \n",
       "\n",
       "                                   tfidf_weight  \\\n",
       "0  [1051211, 1033142, 1005186, 979707, 1105488]   \n",
       "1    [951590, 910032, 1051069, 938700, 9337581]   \n",
       "\n",
       "                                   bm25_weight  \\\n",
       "0  [999999, 1082185, 1135694, 963835, 8090541]   \n",
       "1  [951590, 826249, 9337581, 9337369, 1044078]   \n",
       "\n",
       "                                 cosine_weight  \\\n",
       "0   [1082185, 999999, 995242, 840361, 1029743]   \n",
       "1  [1098066, 826249, 999999, 1082185, 1044078]   \n",
       "\n",
       "                                      als_test  \\\n",
       "0  [833025, 1071939, 995785, 1110572, 1046262]   \n",
       "1   [874736, 907631, 6034857, 962118, 1039589]   \n",
       "\n",
       "                             tfidf_weight_test  \\\n",
       "0  [1046262, 970202, 1071939, 833025, 1022003]   \n",
       "1     [907631, 874736, 962118, 940947, 882441]   \n",
       "\n",
       "                               bm25_weight_test  \\\n",
       "0     [999999, 835788, 1090017, 995785, 968057]   \n",
       "1  [1066783, 1133877, 868909, 9526412, 9396770]   \n",
       "\n",
       "                           cosine_weight_test  \n",
       "0   [833025, 859075, 1007195, 995785, 962229]  \n",
       "1  [874736, 1103105, 907631, 6463789, 906838]  "
      ]
     },
     "execution_count": 19,
     "metadata": {},
     "output_type": "execute_result"
    }
   ],
   "source": [
    "result.head(2)"
   ]
  },
  {
   "cell_type": "code",
   "execution_count": 20,
   "metadata": {},
   "outputs": [
    {
     "name": "stdout",
     "output_type": "stream",
     "text": [
      "als                  : 0.18658 0.04006\n",
      "tfidf_weight         : 0.15289 0.02615\n",
      "bm25_weight          : 0.14035 0.05583\n",
      "cosine_weight        : 0.15769 0.03761\n"
     ]
    }
   ],
   "source": [
    "for x in result.columns:\n",
    "    if x in ['user_id', 'actual'] or x.endswith('_test'):\n",
    "        continue\n",
    "    r_train = result.apply(lambda row: precision_at_k_(row[x], row['actual']), axis=1).mean()\n",
    "    r_test = result.apply(lambda row: precision_at_k_(row[x+'_test'], row['actual']), axis=1).mean()\n",
    "    print(f\"{x:20} : {r_train:.5f} {r_test:.5f}\")"
   ]
  },
  {
   "cell_type": "markdown",
   "metadata": {},
   "source": [
    "##### Выводы:\n",
    "- Взвешивание BM25 и Cosine привело к улучшению метрики Presision@K на тест.\n",
    "- Странно, но TFIDF привело к снижению метрики Presision@K на тест.\n",
    "- Взвешивание снижает Presision@K на train, что скорее всего сигнализирует о переобученности ALS."
   ]
  },
  {
   "cell_type": "markdown",
   "metadata": {},
   "source": [
    "----\n",
    "### ПРИМЕЧАНИЯ: \n",
    "- НЕ УСПЕЛ ДОДЕЛАЛАТЬ.\n",
    "- ПОТРАТИЛ СЛИШКОМ МНОГО ВРЕМЕНИ НА ИНТЕРНЕТ И ОТЛАДКУ КОДА.\n",
    "----"
   ]
  },
  {
   "cell_type": "markdown",
   "metadata": {},
   "source": [
    "### Оптимизация гипперпараметров\n",
    "Для лучшей матрицы весов из первого задания подберите оптимальные $\\lambda$ и n_factors. Подбор можно делать вручную (цикл в цикле, аналог sklearn.GridSearch, или случайно - sklearn.GridSearch). Или Вы можете воспользоваться библиотеками для автоматического подбора гипперпараметров (любые на Ваш вкус). В качестве результата постройте графики:\n",
    "1. Значение параметра - время обучения \n",
    "2. Значение параметра - качество train, качество validation  \n",
    "\n",
    "Сделайте качественные выводы"
   ]
  },
  {
   "cell_type": "markdown",
   "metadata": {},
   "source": [
    "**P.S.** Не пишите отписки в качестве выводов. Мне интресены Ваши рассуждения, трудности, с которыми Вы сталкнулись и что-то, что Вас удивило. Если выводы контринтуитивны - напишите об этом, в этом нет ничего страшного!"
   ]
  },
  {
   "cell_type": "markdown",
   "metadata": {},
   "source": [
    "----\n",
    "### Ссылки:\n",
    "- People meet recommender systems. Factorization https://habr.com/ru/post/486802/\n",
    "- Collaborative Filtering for Implicit Feedback Datasets http://yifanhu.net/PUB/cf.pdf https://www.researchgate.net/publication/220765111_Collaborative_Filtering_for_Implicit_Feedback_Datasets\n",
    "- Fast Matrix Factorization for Online Recommendation with Implicit Feedback https://www.comp.nus.edu.sg/~xiangnan/papers/sigir16-eals-cm.pdf\n",
    "- BPR: Bayesian Personalized Ranking from Implicit Feedback https://arxiv.org/ftp/arxiv/papers/1205/1205.2618.pdf\n",
    "- Explicit Matrix Factorization: ALS, SGD, and All That Jazz https://blog.insightdatascience.com/explicit-matrix-factorization-als-sgd-and-all-that-jazz-b00e4d9b21ea\n",
    "- ALS Implicit Collaborative Filtering https://medium.com/radon-dev/als-implicit-collaborative-filtering-5ed653ba39fe\n",
    "- Role of Matrix Factorization Model in Collaborative Filtering Algorithm: A Survey https://arxiv.org/ftp/arxiv/papers/1503/1503.07475.pdf\n",
    "- Alternating Least Square for Implicit Dataset with code https://towardsdatascience.com/alternating-least-square-for-implicit-dataset-with-code-8e7999277f4b\n",
    "- Okapi BM25 https://en.wikipedia.org/wiki/Okapi_BM25"
   ]
  }
 ],
 "metadata": {
  "kernelspec": {
   "display_name": "Python 3",
   "language": "python",
   "name": "python3"
  },
  "language_info": {
   "codemirror_mode": {
    "name": "ipython",
    "version": 3
   },
   "file_extension": ".py",
   "mimetype": "text/x-python",
   "name": "python",
   "nbconvert_exporter": "python",
   "pygments_lexer": "ipython3",
   "version": "3.8.5"
  }
 },
 "nbformat": 4,
 "nbformat_minor": 4
}
